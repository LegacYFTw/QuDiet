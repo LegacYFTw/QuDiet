{
  "cells": [
    {
      "cell_type": "code",
      "execution_count": 11,
      "outputs": [],
      "source": [
        "from core.quantum_circuit import QuantumCircuit"
      ],
      "metadata": {
        "collapsed": false,
        "pycharm": {
          "name": "#%%\n"
        }
      }
    },
    {
      "cell_type": "code",
      "execution_count": 9,
      "outputs": [],
      "source": [
        "qc = QuantumCircuit([2,2,3,3,3,2,2,2,2,2,2,2,2], init_states=[1,1,1,0,1,0,0,0,0,0,0,0,0])"
      ],
      "metadata": {
        "collapsed": false,
        "pycharm": {
          "name": "#%%\n"
        }
      }
    },
    {
      "cell_type": "code",
      "execution_count": null,
      "outputs": [],
      "source": [],
      "metadata": {
        "collapsed": false,
        "pycharm": {
          "name": "#%%\n"
        }
      }
    }
  ],
  "metadata": {
    "kernelspec": {
      "display_name": "Python 3",
      "language": "python",
      "name": "python3"
    },
    "language_info": {
      "codemirror_mode": {
        "name": "ipython",
        "version": 2
      },
      "file_extension": ".py",
      "mimetype": "text/x-python",
      "name": "python",
      "nbconvert_exporter": "python",
      "pygments_lexer": "ipython2",
      "version": "2.7.6"
    },
    "active_editors": [
      {
        "name": "Subhayu Kumar Bala",
        "avatar_url": "https://avatars.githubusercontent.com/u/38143013?v=4",
        "timestamp": "2024-12-23T14:45:29+01:00"
      }
    ]
  },
  "nbformat": 4,
  "nbformat_minor": 0
}